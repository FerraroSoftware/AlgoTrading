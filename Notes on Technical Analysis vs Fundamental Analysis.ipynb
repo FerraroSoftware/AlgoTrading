{
 "cells": [
  {
   "cell_type": "markdown",
   "metadata": {},
   "source": [
    "# Technical Analysis vs. Fundamental Analysis"
   ]
  },
  {
   "cell_type": "markdown",
   "metadata": {},
   "source": [
    "TA:\n",
    "\n",
    "Required Data: Historical and trading volume \n",
    "\n",
    "Driven By: Supply and Demand (buy and sell)\n",
    "\n",
    "Pros and Cons: \n",
    "\n",
    "    - Data is avaiable and observable\n",
    "    - No accounting knowledge required\n",
    "    - Pseudoscience for practitioners\n",
    "    - Only when price/volume data is observable in the market (liquid)\n",
    "    - less useful when prices are subject to outside maniuplation (central banks)\n",
    "\n",
    "Empirical Evidence: mixed\n",
    "\n",
    "Theory: TA and FA disputed by Efficient Market Hypotheses (EMH)\n",
    "\n",
    "Conclusion: Use both together, not either or"
   ]
  },
  {
   "cell_type": "markdown",
   "metadata": {},
   "source": [
    "FA:\n",
    "\n",
    "Required Data: Finanical Statements and News \n",
    "\n",
    "Driven By: Intrinsic (Fair) Value\n",
    "\n",
    "Pros and Cons: \n",
    "\n",
    "    - More data and restatements required\n",
    "    - Solid accounting skills \n",
    "    - Well embedded in academics\n",
    "    - Works equally well for illiquid assets and markets\n",
    "    - Takes into account outside maniuplation\n",
    "    \n",
    "Empirical Evidence: mixed\n",
    "\n",
    "Theory: TA and FA disputed by Efficient Market Hypotheses (EMH)\n",
    "\n",
    "Conclusion: Use both together, not either or"
   ]
  },
  {
   "cell_type": "code",
   "execution_count": null,
   "metadata": {},
   "outputs": [],
   "source": []
  },
  {
   "cell_type": "code",
   "execution_count": null,
   "metadata": {},
   "outputs": [],
   "source": []
  },
  {
   "cell_type": "markdown",
   "metadata": {},
   "source": [
    "# Technical Analysis and Efficient Market Hypothesis (EMH)"
   ]
  },
  {
   "cell_type": "markdown",
   "metadata": {},
   "source": [
    "### TA:\n",
    "\n",
    "Method to forecast prices through the study of historical price and volume data. It attemps to exploit patterns and trends to make abnormal profit.\n",
    "\n",
    "### EMH:\n",
    "\n",
    "Finanical Markets are information efficent. Current prices fully, quickly and rationally reflect all (publicly) avaible infformation. Trader cant make abnormal profits."
   ]
  },
  {
   "cell_type": "code",
   "execution_count": null,
   "metadata": {},
   "outputs": [],
   "source": []
  },
  {
   "cell_type": "code",
   "execution_count": null,
   "metadata": {},
   "outputs": [],
   "source": []
  },
  {
   "cell_type": "markdown",
   "metadata": {},
   "source": [
    "### Improper use cases for TA\n",
    "\n",
    "Watch out for **confirmation bias**. We can always find one or serveral indicators that do explain the past or support the story we want to tell\n",
    "\n",
    "EX: Today \"X\" continued to go up after 50 day moving average crossed 200\n",
    "\n",
    "---\n",
    "\n",
    "Watch out for **overconfidence bias**. We cant accurately forcast prices / trends for single events. traders frequently overstate prediction power of TA\n",
    "    \n",
    "EX: \"X\" Prediction: Bullish trend to continnue in near term (resistance breakout)\n",
    "\n",
    "---\n",
    "Gaining small competitive advantage by \n",
    "\n",
    "- taking into account several TA indicators and other tools (FA)\n",
    "- backtesting\n",
    "- measure and monitor performance and risk\n",
    "\n",
    "over longer time periods and many trading decisions"
   ]
  },
  {
   "cell_type": "code",
   "execution_count": null,
   "metadata": {},
   "outputs": [],
   "source": []
  }
 ],
 "metadata": {
  "kernelspec": {
   "display_name": "Python 3",
   "language": "python",
   "name": "python3"
  },
  "language_info": {
   "codemirror_mode": {
    "name": "ipython",
    "version": 3
   },
   "file_extension": ".py",
   "mimetype": "text/x-python",
   "name": "python",
   "nbconvert_exporter": "python",
   "pygments_lexer": "ipython3",
   "version": "3.9.5"
  }
 },
 "nbformat": 4,
 "nbformat_minor": 4
}
